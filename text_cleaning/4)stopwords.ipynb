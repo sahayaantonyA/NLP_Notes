{
 "cells": [
  {
   "cell_type": "markdown",
   "id": "722d60ee-640d-44ea-ad54-3e28a3aadd21",
   "metadata": {},
   "source": [
    "#### Stop Words"
   ]
  },
  {
   "cell_type": "markdown",
   "id": "28bd1f6c-d69a-47dc-b76d-55061f9a1c3b",
   "metadata": {},
   "source": [
    "basicaly it will remove repeted unwanted words like 'the,it,i,he,she..etc,'"
   ]
  },
  {
   "cell_type": "code",
   "execution_count": 1,
   "id": "be3234df-6109-4ac4-aca0-6081393a37df",
   "metadata": {},
   "outputs": [],
   "source": [
    "from nltk.corpus import stopwords"
   ]
  },
  {
   "cell_type": "raw",
   "id": "9520b654-9295-4f2d-98a1-fa09714d5913",
   "metadata": {},
   "source": [
    "import nltk\n",
    "nltk.download('stopwords')"
   ]
  },
  {
   "cell_type": "code",
   "execution_count": 2,
   "id": "312f08a1-6fee-4bbd-b9c9-3f3eda2c1652",
   "metadata": {
    "scrolled": true
   },
   "outputs": [
    {
     "data": {
      "text/plain": [
       "['i',\n",
       " 'me',\n",
       " 'my',\n",
       " 'myself',\n",
       " 'we',\n",
       " 'our',\n",
       " 'ours',\n",
       " 'ourselves',\n",
       " 'you',\n",
       " \"you're\",\n",
       " \"you've\",\n",
       " \"you'll\",\n",
       " \"you'd\",\n",
       " 'your',\n",
       " 'yours',\n",
       " 'yourself',\n",
       " 'yourselves',\n",
       " 'he',\n",
       " 'him',\n",
       " 'his',\n",
       " 'himself',\n",
       " 'she',\n",
       " \"she's\",\n",
       " 'her',\n",
       " 'hers',\n",
       " 'herself',\n",
       " 'it',\n",
       " \"it's\",\n",
       " 'its',\n",
       " 'itself',\n",
       " 'they',\n",
       " 'them',\n",
       " 'their',\n",
       " 'theirs',\n",
       " 'themselves',\n",
       " 'what',\n",
       " 'which',\n",
       " 'who',\n",
       " 'whom',\n",
       " 'this',\n",
       " 'that',\n",
       " \"that'll\",\n",
       " 'these',\n",
       " 'those',\n",
       " 'am',\n",
       " 'is',\n",
       " 'are',\n",
       " 'was',\n",
       " 'were',\n",
       " 'be',\n",
       " 'been',\n",
       " 'being',\n",
       " 'have',\n",
       " 'has',\n",
       " 'had',\n",
       " 'having',\n",
       " 'do',\n",
       " 'does',\n",
       " 'did',\n",
       " 'doing',\n",
       " 'a',\n",
       " 'an',\n",
       " 'the',\n",
       " 'and',\n",
       " 'but',\n",
       " 'if',\n",
       " 'or',\n",
       " 'because',\n",
       " 'as',\n",
       " 'until',\n",
       " 'while',\n",
       " 'of',\n",
       " 'at',\n",
       " 'by',\n",
       " 'for',\n",
       " 'with',\n",
       " 'about',\n",
       " 'against',\n",
       " 'between',\n",
       " 'into',\n",
       " 'through',\n",
       " 'during',\n",
       " 'before',\n",
       " 'after',\n",
       " 'above',\n",
       " 'below',\n",
       " 'to',\n",
       " 'from',\n",
       " 'up',\n",
       " 'down',\n",
       " 'in',\n",
       " 'out',\n",
       " 'on',\n",
       " 'off',\n",
       " 'over',\n",
       " 'under',\n",
       " 'again',\n",
       " 'further',\n",
       " 'then',\n",
       " 'once',\n",
       " 'here',\n",
       " 'there',\n",
       " 'when',\n",
       " 'where',\n",
       " 'why',\n",
       " 'how',\n",
       " 'all',\n",
       " 'any',\n",
       " 'both',\n",
       " 'each',\n",
       " 'few',\n",
       " 'more',\n",
       " 'most',\n",
       " 'other',\n",
       " 'some',\n",
       " 'such',\n",
       " 'no',\n",
       " 'nor',\n",
       " 'not',\n",
       " 'only',\n",
       " 'own',\n",
       " 'same',\n",
       " 'so',\n",
       " 'than',\n",
       " 'too',\n",
       " 'very',\n",
       " 's',\n",
       " 't',\n",
       " 'can',\n",
       " 'will',\n",
       " 'just',\n",
       " 'don',\n",
       " \"don't\",\n",
       " 'should',\n",
       " \"should've\",\n",
       " 'now',\n",
       " 'd',\n",
       " 'll',\n",
       " 'm',\n",
       " 'o',\n",
       " 're',\n",
       " 've',\n",
       " 'y',\n",
       " 'ain',\n",
       " 'aren',\n",
       " \"aren't\",\n",
       " 'couldn',\n",
       " \"couldn't\",\n",
       " 'didn',\n",
       " \"didn't\",\n",
       " 'doesn',\n",
       " \"doesn't\",\n",
       " 'hadn',\n",
       " \"hadn't\",\n",
       " 'hasn',\n",
       " \"hasn't\",\n",
       " 'haven',\n",
       " \"haven't\",\n",
       " 'isn',\n",
       " \"isn't\",\n",
       " 'ma',\n",
       " 'mightn',\n",
       " \"mightn't\",\n",
       " 'mustn',\n",
       " \"mustn't\",\n",
       " 'needn',\n",
       " \"needn't\",\n",
       " 'shan',\n",
       " \"shan't\",\n",
       " 'shouldn',\n",
       " \"shouldn't\",\n",
       " 'wasn',\n",
       " \"wasn't\",\n",
       " 'weren',\n",
       " \"weren't\",\n",
       " 'won',\n",
       " \"won't\",\n",
       " 'wouldn',\n",
       " \"wouldn't\"]"
      ]
     },
     "execution_count": 2,
     "metadata": {},
     "output_type": "execute_result"
    }
   ],
   "source": [
    "stopwords.words('english')  # all stopwords in english"
   ]
  },
  {
   "cell_type": "code",
   "execution_count": 28,
   "id": "7a3d7829-05f2-462a-aaa9-49a04cfd8ad2",
   "metadata": {},
   "outputs": [],
   "source": [
    "paragraph = \"\"\"The Taj Mahal is located on the right bank of the Yamuna River in a vast Mughal garden \n",
    "that encompasses nearly 17 hectares,in the Agra District in Uttar Pradesh. It was built by Mughal Emperor\n",
    "Shah Jahan in memory of his wife Mumtaz Mahal with construction starting in 1632 AD and completed in 1648 AD,\n",
    "with the mosque, the guest house and the main gateway on the south, the outer courtyard and its cloisters \n",
    "were added subsequently and completed in 1653 AD. The existence of several historical and Quaranic inscriptions \n",
    "in Arabic script have facilitated setting the chronology of Taj Mahal. For its construction, masons, stone-cutters,\n",
    "inlayers, carvers, painters, calligraphers, dome builders and other artisans were requisitioned from the \n",
    "whole of the empire and also from the Central Asia and Iran. Ustad-Ahmad Lahori was the main architect of the Taj Mahal.\"\"\""
   ]
  },
  {
   "cell_type": "code",
   "execution_count": 4,
   "id": "fa4c4080-a40b-4289-850c-e3c66b6ab2ae",
   "metadata": {},
   "outputs": [],
   "source": [
    "from nltk.tokenize import sent_tokenize\n",
    "from nltk.tokenize import word_tokenize"
   ]
  },
  {
   "cell_type": "code",
   "execution_count": 5,
   "id": "5951794c-7f82-4851-97f2-c6986bfff5a0",
   "metadata": {},
   "outputs": [],
   "source": [
    "sentences = sent_tokenize(paragraph)"
   ]
  },
  {
   "cell_type": "code",
   "execution_count": 6,
   "id": "6628e786-bf89-4a90-983d-f43d08d2d32f",
   "metadata": {},
   "outputs": [
    {
     "data": {
      "text/plain": [
       "['the taj mahal locat right bank yamuna river vast mughal garden encompass nearli 17 hectar , agra district uttar pradesh .',\n",
       " 'it built mughal emperor shah jahan memori wife mumtaz mahal construct start 1632 ad complet 1648 ad , mosqu , guest hous main gateway south , outer courtyard cloister ad subsequ complet 1653 ad .',\n",
       " 'the exist sever histor quaran inscript arab script facilit set chronolog taj mahal .',\n",
       " 'for construct , mason , stone-cutt , inlay , carver , painter , calligraph , dome builder artisan requisit whole empir also central asia iran .',\n",
       " 'ustad-ahmad lahori main architect taj mahal .']"
      ]
     },
     "execution_count": 6,
     "metadata": {},
     "output_type": "execute_result"
    }
   ],
   "source": [
    "# porter setemmer\n",
    "from nltk.stem import PorterStemmer\n",
    "porter_stemmer = PorterStemmer()\n",
    "\n",
    "for i in range(len(sentences)):\n",
    "    words = word_tokenize(sentences[i])\n",
    "    words = [porter_stemmer.stem(word.lower()) for word in words if word not in set(stopwords.words('english'))]\n",
    "    sentences[i] = ' '.join(words) # all words to sentence\n",
    "\n",
    "sentences"
   ]
  },
  {
   "cell_type": "code",
   "execution_count": 7,
   "id": "7ee4791f-7490-47ac-a38e-97ed74a090ca",
   "metadata": {},
   "outputs": [],
   "source": [
    "sentences = sent_tokenize(paragraph)"
   ]
  },
  {
   "cell_type": "code",
   "execution_count": 8,
   "id": "8fbf2ca6-890a-4c78-8741-cbc7fdc235ae",
   "metadata": {},
   "outputs": [
    {
     "data": {
      "text/plain": [
       "['the taj mahal locat right bank yamuna river vast mughal garden encompass near 17 hectar , agra district uttar pradesh .',\n",
       " 'it built mughal emperor shah jahan memori wife mumtaz mahal construct start 1632 ad complet 1648 ad , mosqu , guest hous main gateway south , outer courtyard cloister ad subsequ complet 1653 ad .',\n",
       " 'the exist sever histor quaran inscript arab script facilit set chronolog taj mahal .',\n",
       " 'for construct , mason , stone-cutt , inlay , carver , painter , calligraph , dome builder artisan requisit whole empir also central asia iran .',\n",
       " 'ustad-ahmad lahori main architect taj mahal .']"
      ]
     },
     "execution_count": 8,
     "metadata": {},
     "output_type": "execute_result"
    }
   ],
   "source": [
    "# snowball stemmer\n",
    "from nltk.stem import SnowballStemmer\n",
    "snow_ball_stemmer = SnowballStemmer('english')\n",
    "\n",
    "for i in range(len(sentences)):\n",
    "    words = word_tokenize(sentences[i])\n",
    "    words = [snow_ball_stemmer.stem(word.lower()) for word in words if word not in set(stopwords.words('english'))]\n",
    "    sentences[i] = ' '.join(words) # all words to sentence\n",
    "\n",
    "sentences"
   ]
  },
  {
   "cell_type": "code",
   "execution_count": 29,
   "id": "a95efabf-f45e-4ac4-9e69-7d3285561e28",
   "metadata": {},
   "outputs": [],
   "source": [
    "sentences = sent_tokenize(paragraph)"
   ]
  },
  {
   "cell_type": "code",
   "execution_count": 30,
   "id": "5f0f7ed6-bd76-4574-b03e-d9adbd25a177",
   "metadata": {},
   "outputs": [
    {
     "data": {
      "text/plain": [
       "['the taj mahal locate right bank yamuna river vast mughal garden encompass nearly 17 hectares , agra district uttar pradesh .',\n",
       " 'it build mughal emperor shah jahan memory wife mumtaz mahal construction start 1632 ad complete 1648 ad , mosque , guest house main gateway south , outer courtyard cloister add subsequently complete 1653 ad .',\n",
       " 'the existence several historical quaranic inscriptions arabic script facilitate set chronology taj mahal .',\n",
       " 'for construction , masons , stone-cutters , inlayers , carvers , painters , calligraphers , dome builders artisans requisition whole empire also central asia iran .',\n",
       " 'ustad-ahmad lahori main architect taj mahal .']"
      ]
     },
     "execution_count": 30,
     "metadata": {},
     "output_type": "execute_result"
    }
   ],
   "source": [
    "# word net lemmatization\n",
    "from nltk.stem import WordNetLemmatizer\n",
    "word_net_lemmatizer = WordNetLemmatizer()\n",
    "\n",
    "for i in range(len(sentences)):\n",
    "    words = word_tokenize(sentences[i])\n",
    "    words = [word_net_lemmatizer.lemmatize(word.lower(),pos='v') for word in words if word not in set(stopwords.words('english'))]\n",
    "    sentences[i] = ' '.join(words) # all words to sentence\n",
    "\n",
    "sentences"
   ]
  },
  {
   "cell_type": "raw",
   "id": "c1e5c030-666a-434a-8248-30cf466139e6",
   "metadata": {},
   "source": []
  },
  {
   "cell_type": "code",
   "execution_count": null,
   "id": "31f42958-a484-41a4-ae3e-56aa6033ca81",
   "metadata": {},
   "outputs": [],
   "source": []
  },
  {
   "cell_type": "code",
   "execution_count": null,
   "id": "33928a02-a3d8-42a1-bcb8-52a46da82095",
   "metadata": {},
   "outputs": [],
   "source": []
  }
 ],
 "metadata": {
  "kernelspec": {
   "display_name": "Python 3 (ipykernel)",
   "language": "python",
   "name": "python3"
  },
  "language_info": {
   "codemirror_mode": {
    "name": "ipython",
    "version": 3
   },
   "file_extension": ".py",
   "mimetype": "text/x-python",
   "name": "python",
   "nbconvert_exporter": "python",
   "pygments_lexer": "ipython3",
   "version": "3.11.4"
  }
 },
 "nbformat": 4,
 "nbformat_minor": 5
}
