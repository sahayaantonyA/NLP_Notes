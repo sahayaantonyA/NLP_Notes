{
 "cells": [
  {
   "cell_type": "code",
   "execution_count": 1,
   "id": "97ef055d-c8b3-442a-8b5e-3de005b9a8d5",
   "metadata": {},
   "outputs": [],
   "source": [
    "from nltk.tokenize import sent_tokenize\n",
    "from nltk.tokenize import word_tokenize\n",
    "from nltk.corpus import stopwords"
   ]
  },
  {
   "cell_type": "code",
   "execution_count": 2,
   "id": "7ab068df-927d-4e60-94dd-97d15f0d4734",
   "metadata": {},
   "outputs": [],
   "source": [
    "paragraph = \"\"\"The Taj Mahal is located on the right bank of the Yamuna River in a vast Mughal garden \n",
    "that encompasses nearly 17 hectares,in the Agra District in Uttar Pradesh. It was built by Mughal Emperor\n",
    "Shah Jahan in memory of his wife Mumtaz Mahal with construction starting in 1632 AD and completed in 1648 AD,\n",
    "with the mosque, the guest house and the main gateway on the south, the outer courtyard and its cloisters \n",
    "were added subsequently and completed in 1653 AD. The existence of several historical and Quaranic inscriptions \n",
    "in Arabic script have facilitated setting the chronology of Taj Mahal. For its construction, masons, stone-cutters,\n",
    "inlayers, carvers, painters, calligraphers, dome builders and other artisans were requisitioned from the \n",
    "whole of the empire and also from the Central Asia and Iran. Ustad-Ahmad Lahori was the main architect of the Taj Mahal.\"\"\""
   ]
  },
  {
   "cell_type": "code",
   "execution_count": 3,
   "id": "71d8ae8c-bbfb-40a7-ad19-dae6d8dbee1e",
   "metadata": {},
   "outputs": [],
   "source": [
    "sentences = sent_tokenize(paragraph)"
   ]
  },
  {
   "cell_type": "code",
   "execution_count": 4,
   "id": "879e5de6-9eb7-4a3f-839a-f64b11e87fe1",
   "metadata": {},
   "outputs": [
    {
     "name": "stdout",
     "output_type": "stream",
     "text": [
      "[('The', 'DT'), ('Taj', 'NNP'), ('Mahal', 'NNP'), ('located', 'VBD'), ('right', 'JJ'), ('bank', 'NN'), ('Yamuna', 'NNP'), ('River', 'NNP'), ('vast', 'JJ'), ('Mughal', 'NNP'), ('garden', 'NN'), ('encompasses', 'NNS'), ('nearly', 'RB'), ('17', 'CD'), ('hectares', 'NNS'), (',', ','), ('Agra', 'NNP'), ('District', 'NNP'), ('Uttar', 'NNP'), ('Pradesh', 'NNP'), ('.', '.')]\n",
      "[('It', 'PRP'), ('built', 'VBD'), ('Mughal', 'NNP'), ('Emperor', 'NNP'), ('Shah', 'NNP'), ('Jahan', 'NNP'), ('memory', 'NN'), ('wife', 'NN'), ('Mumtaz', 'NNP'), ('Mahal', 'NNP'), ('construction', 'NN'), ('starting', 'VBG'), ('1632', 'CD'), ('AD', 'NNP'), ('completed', 'VBD'), ('1648', 'CD'), ('AD', 'NNP'), (',', ','), ('mosque', 'NN'), (',', ','), ('guest', 'JJS'), ('house', 'NN'), ('main', 'JJ'), ('gateway', 'NN'), ('south', 'NN'), (',', ','), ('outer', 'RB'), ('courtyard', 'NN'), ('cloisters', 'NNS'), ('added', 'VBD'), ('subsequently', 'RB'), ('completed', 'VBN'), ('1653', 'CD'), ('AD', 'NNP'), ('.', '.')]\n",
      "[('The', 'DT'), ('existence', 'NN'), ('several', 'JJ'), ('historical', 'JJ'), ('Quaranic', 'NNP'), ('inscriptions', 'NNS'), ('Arabic', 'NNP'), ('script', 'NN'), ('facilitated', 'VBD'), ('setting', 'VBG'), ('chronology', 'NN'), ('Taj', 'NNP'), ('Mahal', 'NNP'), ('.', '.')]\n",
      "[('For', 'IN'), ('construction', 'NN'), (',', ','), ('masons', 'NNS'), (',', ','), ('stone-cutters', 'NNS'), (',', ','), ('inlayers', 'NNS'), (',', ','), ('carvers', 'NNS'), (',', ','), ('painters', 'NNS'), (',', ','), ('calligraphers', 'NNS'), (',', ','), ('dome', 'JJ'), ('builders', 'NNS'), ('artisans', 'NNS'), ('requisitioned', 'VBD'), ('whole', 'JJ'), ('empire', 'NN'), ('also', 'RB'), ('Central', 'NNP'), ('Asia', 'NNP'), ('Iran', 'NNP'), ('.', '.')]\n",
      "[('Ustad-Ahmad', 'JJ'), ('Lahori', 'NNP'), ('main', 'JJ'), ('architect', 'NN'), ('Taj', 'NNP'), ('Mahal', 'NNP'), ('.', '.')]\n"
     ]
    }
   ],
   "source": [
    "import nltk\n",
    "for i in range(len(sentences)):\n",
    "    words = word_tokenize(sentences[i])\n",
    "    words = [word for word in words if word not in set(stopwords.words('english'))]\n",
    "    #sentences[i] = ' '.join(words) # all words to sentence\n",
    "    print(nltk.pos_tag(words))"
   ]
  },
  {
   "cell_type": "code",
   "execution_count": null,
   "id": "3f58b014-e992-46d5-8364-97f231ae5895",
   "metadata": {},
   "outputs": [],
   "source": []
  },
  {
   "cell_type": "code",
   "execution_count": null,
   "id": "064ccd6f-726d-496f-b5c8-95aedc4c496b",
   "metadata": {},
   "outputs": [],
   "source": []
  },
  {
   "cell_type": "code",
   "execution_count": null,
   "id": "c3f65e91-c019-437d-a405-8d2772fbdaab",
   "metadata": {},
   "outputs": [],
   "source": []
  },
  {
   "cell_type": "code",
   "execution_count": null,
   "id": "5999c44d-309e-4078-8b24-224090af05a6",
   "metadata": {},
   "outputs": [],
   "source": []
  },
  {
   "cell_type": "code",
   "execution_count": null,
   "id": "c1a9cdfb-d357-42e8-a06f-9d5ac4ac75c0",
   "metadata": {},
   "outputs": [],
   "source": []
  }
 ],
 "metadata": {
  "kernelspec": {
   "display_name": "Python 3 (ipykernel)",
   "language": "python",
   "name": "python3"
  },
  "language_info": {
   "codemirror_mode": {
    "name": "ipython",
    "version": 3
   },
   "file_extension": ".py",
   "mimetype": "text/x-python",
   "name": "python",
   "nbconvert_exporter": "python",
   "pygments_lexer": "ipython3",
   "version": "3.11.4"
  }
 },
 "nbformat": 4,
 "nbformat_minor": 5
}
