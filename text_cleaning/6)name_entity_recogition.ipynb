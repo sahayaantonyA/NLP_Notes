{
 "cells": [
  {
   "cell_type": "code",
   "execution_count": 2,
   "id": "a26eb1c7-76ef-40d1-a217-dc8d48a8eca5",
   "metadata": {},
   "outputs": [],
   "source": [
    "paragraph = \"\"\"The Taj Mahal is located on the right bank of the Yamuna River in a vast Mughal garden \n",
    "that encompasses nearly 17 hectares,in the Agra District in Uttar Pradesh. It was built by Mughal Emperor\n",
    "Shah Jahan in memory of his wife Mumtaz Mahal with construction starting in 1632 AD and completed in 1648 AD,\n",
    "with the mosque, the guest house and the main gateway on the south, the outer courtyard and its cloisters \n",
    "were added subsequently and completed in 1653 AD. The existence of several historical and Quaranic inscriptions \n",
    "in Arabic script have facilitated setting the chronology of Taj Mahal. For its construction, masons, stone-cutters,\n",
    "inlayers, carvers, painters, calligraphers, dome builders and other artisans were requisitioned from the \n",
    "whole of the empire and also from the Central Asia and Iran. Ustad-Ahmad Lahori was the main architect of the Taj Mahal.\"\"\""
   ]
  },
  {
   "cell_type": "code",
   "execution_count": 1,
   "id": "f4f03d71-435d-4c9c-95a7-d9348b592221",
   "metadata": {},
   "outputs": [],
   "source": [
    "import nltk"
   ]
  },
  {
   "cell_type": "code",
   "execution_count": 4,
   "id": "96b81f0f-5ea1-4d33-aeda-cc0df3c6b341",
   "metadata": {},
   "outputs": [],
   "source": [
    "words = nltk.word_tokenize(paragraph)"
   ]
  },
  {
   "cell_type": "code",
   "execution_count": 6,
   "id": "3e6baf0b-d0b1-448b-a835-4a5c50d57d18",
   "metadata": {},
   "outputs": [],
   "source": [
    "word_pos_tag = nltk.pos_tag(words)"
   ]
  },
  {
   "cell_type": "code",
   "execution_count": 10,
   "id": "5b9156f5-0abe-476c-ab92-cb8e8437a2d1",
   "metadata": {},
   "outputs": [
    {
     "name": "stderr",
     "output_type": "stream",
     "text": [
      "[nltk_data] Downloading package words to /home/anto/nltk_data...\n",
      "[nltk_data]   Unzipping corpora/words.zip.\n"
     ]
    },
    {
     "data": {
      "text/plain": [
       "True"
      ]
     },
     "execution_count": 10,
     "metadata": {},
     "output_type": "execute_result"
    }
   ],
   "source": [
    "nltk.download('words')"
   ]
  },
  {
   "cell_type": "code",
   "execution_count": 12,
   "id": "9c311be6-0261-40dd-9fe3-d659270fe837",
   "metadata": {},
   "outputs": [],
   "source": [
    "nltk.ne_chunk(word_pos_tag).draw()"
   ]
  },
  {
   "cell_type": "code",
   "execution_count": null,
   "id": "3008eb99-f4af-40ac-a87f-1c846ae5ba15",
   "metadata": {},
   "outputs": [],
   "source": []
  }
 ],
 "metadata": {
  "kernelspec": {
   "display_name": "Python 3 (ipykernel)",
   "language": "python",
   "name": "python3"
  },
  "language_info": {
   "codemirror_mode": {
    "name": "ipython",
    "version": 3
   },
   "file_extension": ".py",
   "mimetype": "text/x-python",
   "name": "python",
   "nbconvert_exporter": "python",
   "pygments_lexer": "ipython3",
   "version": "3.11.4"
  }
 },
 "nbformat": 4,
 "nbformat_minor": 5
}
