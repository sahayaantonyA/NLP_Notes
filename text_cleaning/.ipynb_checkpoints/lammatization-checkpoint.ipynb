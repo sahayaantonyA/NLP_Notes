{
 "cells": [
  {
   "cell_type": "markdown",
   "id": "d6cd352c-4700-4b52-bb3f-5ded817d004f",
   "metadata": {},
   "source": [
    "#### Lammatization"
   ]
  },
  {
   "cell_type": "markdown",
   "id": "34fcc3a9-8b39-410e-85d4-e735dc75701d",
   "metadata": {
    "jp-MarkdownHeadingCollapsed": true
   },
   "source": [
    "\n",
    "lammatization is a technique is like stemming.the output we will get after lammaitization is called 'lemma',\n",
    "the output of stemming after lemmatization we will getting a vaild word that means the same thing."
   ]
  },
  {
   "cell_type": "code",
   "execution_count": 1,
   "id": "ce6ccfeb-d935-407a-9ca3-0660b3ce45c5",
   "metadata": {},
   "outputs": [],
   "source": [
    "## word net lemmatizer"
   ]
  },
  {
   "cell_type": "code",
   "execution_count": 2,
   "id": "35515626-9701-4717-b0ec-1dc01b2870bd",
   "metadata": {},
   "outputs": [],
   "source": [
    "from nltk.stem import WordNetLemmatizer"
   ]
  },
  {
   "cell_type": "code",
   "execution_count": 3,
   "id": "62db03af-dcf1-4447-aa1f-46bfdeec3549",
   "metadata": {},
   "outputs": [],
   "source": [
    "word_net_lamitizer = WordNetLemmatizer()"
   ]
  },
  {
   "cell_type": "raw",
   "id": "89f89086-9248-4e0e-9623-72574cb27069",
   "metadata": {},
   "source": [
    "pos {parameter}:\n",
    "\n",
    "verb      ----> v\n",
    "noun      ----> n\n",
    "adjective ----> a\n",
    "adverb    ----> r"
   ]
  },
  {
   "cell_type": "code",
   "execution_count": 19,
   "id": "1a0f8a2a-961c-46b5-bf7d-11b1fbf89c88",
   "metadata": {},
   "outputs": [],
   "source": [
    "words = ['eating','walked','finished','running','gone']"
   ]
  },
  {
   "cell_type": "code",
   "execution_count": 20,
   "id": "67bde696-f23e-46a2-bdd0-018181feddd7",
   "metadata": {},
   "outputs": [
    {
     "name": "stdout",
     "output_type": "stream",
     "text": [
      "eating ----> eat\n",
      "walked ----> walk\n",
      "finished ----> finish\n",
      "running ----> run\n",
      "gone ----> go\n"
     ]
    }
   ],
   "source": [
    "for word in words:\n",
    "    print(f\"{word} ----> {word_net_lamitizer.lemmatize(word,pos='v')}\")"
   ]
  },
  {
   "cell_type": "markdown",
   "id": "25aadf22-f3c9-43cd-9627-8ee299dcfebc",
   "metadata": {},
   "source": [
    "NOTE: it's taking time, usecase{chatbot}"
   ]
  },
  {
   "cell_type": "code",
   "execution_count": null,
   "id": "246c616c-4b27-46d6-bde5-7d6dc88d3ca1",
   "metadata": {},
   "outputs": [],
   "source": []
  }
 ],
 "metadata": {
  "kernelspec": {
   "display_name": "Python 3 (ipykernel)",
   "language": "python",
   "name": "python3"
  },
  "language_info": {
   "codemirror_mode": {
    "name": "ipython",
    "version": 3
   },
   "file_extension": ".py",
   "mimetype": "text/x-python",
   "name": "python",
   "nbconvert_exporter": "python",
   "pygments_lexer": "ipython3",
   "version": "3.11.4"
  }
 },
 "nbformat": 4,
 "nbformat_minor": 5
}
