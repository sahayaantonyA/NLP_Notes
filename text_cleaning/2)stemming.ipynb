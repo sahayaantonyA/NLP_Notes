{
 "cells": [
  {
   "cell_type": "markdown",
   "id": "21af58ea-1ef4-42a6-b541-5dfc14c6ab6c",
   "metadata": {},
   "source": [
    "#### Stemming"
   ]
  },
  {
   "cell_type": "markdown",
   "id": "9712a43a-e862-4a01-adda-8d9fc672b67f",
   "metadata": {},
   "source": [
    "##### Stemming is the process to reducing the word to its word stem that affixes to suffixes and prefixes or to the roots \n",
    "##### of word know as lemma.\n",
    "\n",
    "eg:  going,gone,goes ---> go "
   ]
  },
  {
   "cell_type": "code",
   "execution_count": 2,
   "id": "af94daa6-9f91-4bad-b1cb-4880deea55d2",
   "metadata": {},
   "outputs": [],
   "source": [
    "## porter stemmer"
   ]
  },
  {
   "cell_type": "code",
   "execution_count": 3,
   "id": "19b26540-e6d5-4391-b5e8-3ec0462413ce",
   "metadata": {},
   "outputs": [],
   "source": [
    "from nltk.stem import PorterStemmer"
   ]
  },
  {
   "cell_type": "code",
   "execution_count": 57,
   "id": "5f57dd3e-2158-43ad-9583-d5732b3279d7",
   "metadata": {},
   "outputs": [],
   "source": [
    "porter_stemmer = PorterStemmer()"
   ]
  },
  {
   "cell_type": "code",
   "execution_count": 48,
   "id": "fa6a9116-fe1c-4022-bcc3-1f800e9a61f4",
   "metadata": {},
   "outputs": [],
   "source": [
    "words = ['writing','writes','eating','eats','walking','walked']"
   ]
  },
  {
   "cell_type": "code",
   "execution_count": 58,
   "id": "23e3dc5a-5a3b-4909-ad8f-c528bfad1bd8",
   "metadata": {},
   "outputs": [
    {
     "name": "stdout",
     "output_type": "stream",
     "text": [
      "writing ----> write\n",
      "writes ----> write\n",
      "eating ----> eat\n",
      "eats ----> eat\n",
      "walking ----> walk\n",
      "walked ----> walk\n"
     ]
    }
   ],
   "source": [
    "for word in words:\n",
    "    print(f\"{word} ----> {porter_stemmer.stem(word)}\")"
   ]
  },
  {
   "cell_type": "code",
   "execution_count": 59,
   "id": "3c8fc643-db40-44da-b09b-7de1b38e713b",
   "metadata": {},
   "outputs": [
    {
     "data": {
      "text/plain": [
       "'histori'"
      ]
     },
     "execution_count": 59,
     "metadata": {},
     "output_type": "execute_result"
    }
   ],
   "source": [
    "porter_stemmer.stem('history')   #disadvantage"
   ]
  },
  {
   "cell_type": "code",
   "execution_count": 23,
   "id": "464e5051-6a85-432a-aed5-c70b61925955",
   "metadata": {},
   "outputs": [],
   "source": [
    "## regexpstemmer class"
   ]
  },
  {
   "cell_type": "markdown",
   "id": "eea66ec2-ad8a-420a-87a1-513662b500ab",
   "metadata": {},
   "source": [
    "##### its basicaly takes a single regular expression and removes any prefix or suffix that matches the expression"
   ]
  },
  {
   "cell_type": "code",
   "execution_count": 24,
   "id": "209395d3-0c38-4f1d-b5cc-5ee9993c57b9",
   "metadata": {},
   "outputs": [],
   "source": [
    "from nltk.stem import RegexpStemmer"
   ]
  },
  {
   "cell_type": "code",
   "execution_count": 40,
   "id": "f5ae120e-a8a1-4d6b-bfbe-85baac2c35f2",
   "metadata": {},
   "outputs": [],
   "source": [
    "reg_exp_stemmer = RegexpStemmer('ing$|es$|s$',min=4)"
   ]
  },
  {
   "cell_type": "code",
   "execution_count": 51,
   "id": "f841fdd5-224a-460c-b735-e01457b4eafa",
   "metadata": {},
   "outputs": [
    {
     "name": "stdout",
     "output_type": "stream",
     "text": [
      "happen\n"
     ]
    }
   ],
   "source": [
    "print(reg_exp_stemmer.stem('happening'))   # incase ing,es,s are present in the end of word it will remove"
   ]
  },
  {
   "cell_type": "code",
   "execution_count": 52,
   "id": "4626c5b3-8a3e-4852-865d-0eccb981400d",
   "metadata": {},
   "outputs": [],
   "source": [
    "## snowball stemmer"
   ]
  },
  {
   "cell_type": "code",
   "execution_count": 53,
   "id": "7af6948b-e187-469a-88ff-9947165bda79",
   "metadata": {},
   "outputs": [],
   "source": [
    "from nltk.stem import SnowballStemmer"
   ]
  },
  {
   "cell_type": "code",
   "execution_count": 54,
   "id": "5c596283-5f11-4f29-b271-a68e56d49919",
   "metadata": {},
   "outputs": [],
   "source": [
    "snow_ball_stemmer = SnowballStemmer('english')"
   ]
  },
  {
   "cell_type": "code",
   "execution_count": 55,
   "id": "207c4b25-02eb-45cc-a523-0f9654c886e8",
   "metadata": {},
   "outputs": [
    {
     "name": "stdout",
     "output_type": "stream",
     "text": [
      "writing ----> write\n",
      "writes ----> write\n",
      "eating ----> eat\n",
      "eats ----> eat\n",
      "walking ----> walk\n",
      "walked ----> walk\n"
     ]
    }
   ],
   "source": [
    "for word in words:\n",
    "    print(f\"{word} ----> {snow_ball_stemmer.stem(word)}\")"
   ]
  },
  {
   "cell_type": "code",
   "execution_count": 56,
   "id": "e2615704-adbe-4d7b-a384-b7b4e1234be1",
   "metadata": {},
   "outputs": [],
   "source": [
    "## porter stemmer vs snowballstemmer"
   ]
  },
  {
   "cell_type": "code",
   "execution_count": 74,
   "id": "a473b412-64bd-40ec-9ff2-33847204ac8c",
   "metadata": {},
   "outputs": [
    {
     "data": {
      "text/plain": [
       "'sportingli'"
      ]
     },
     "execution_count": 74,
     "metadata": {},
     "output_type": "execute_result"
    }
   ],
   "source": [
    "porter_stemmer.stem('sportingly')"
   ]
  },
  {
   "cell_type": "code",
   "execution_count": 75,
   "id": "a01c517a-3765-4a39-9750-266b7720175e",
   "metadata": {},
   "outputs": [
    {
     "data": {
      "text/plain": [
       "'sport'"
      ]
     },
     "execution_count": 75,
     "metadata": {},
     "output_type": "execute_result"
    }
   ],
   "source": [
    "snow_ball_stemmer.stem('sportingly')"
   ]
  },
  {
   "cell_type": "markdown",
   "id": "ffc61dc8-f084-4f22-8ea1-309987ad3ffc",
   "metadata": {},
   "source": [
    "#### NOTE: disadvantage--> we can't get meaningful word so here lamitization comes to play"
   ]
  },
  {
   "cell_type": "code",
   "execution_count": null,
   "id": "22754652-feb4-4d3e-9fa4-c06a4cf61074",
   "metadata": {},
   "outputs": [],
   "source": []
  }
 ],
 "metadata": {
  "kernelspec": {
   "display_name": "Python 3 (ipykernel)",
   "language": "python",
   "name": "python3"
  },
  "language_info": {
   "codemirror_mode": {
    "name": "ipython",
    "version": 3
   },
   "file_extension": ".py",
   "mimetype": "text/x-python",
   "name": "python",
   "nbconvert_exporter": "python",
   "pygments_lexer": "ipython3",
   "version": "3.11.4"
  }
 },
 "nbformat": 4,
 "nbformat_minor": 5
}
