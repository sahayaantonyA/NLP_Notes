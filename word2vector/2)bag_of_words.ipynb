{
 "cells": [
  {
   "cell_type": "code",
   "execution_count": null,
   "id": "4cb6541a-6fe2-46ce-b1b5-1af92be29f2c",
   "metadata": {},
   "outputs": [],
   "source": [
    "    text                  o/p                           cleaned text             good boy girl         result    o/p\n",
    "He is a good boy           1      convert lowercase      good boy                 1    0   0           [[1 1 0]]   1\n",
    "She is a good girl         1      ----------------->     good girl       --->     0    1   0    --->   [[1 0 1]]   1\n",
    "Boy and girl are good      1      apply stop words       boy girl good            0    0   1           [[1 1 1]]   1\n",
    "\n",
    "\n",
    "## finding vecablory & frequency \n",
    "  vecablory       frequency(make sure desending order) \n",
    "1) good               3 \n",
    "2) boy                2\n",
    "3) girl               2\n",
    "\n",
    "## types of {bag of words}:\n",
    "1) binary bag of words    ------> it contains only zeros and onces  {example: good boy good girl --> [[1 1 1]]\n",
    "2) normal bag of words    ------> count will get update based on frequency {example: good boy and good girl --> [[2 1 1]]}\n",
    "\n",
    "\n",
    "## advantages of BOW:\n",
    "1) simple implementation\n",
    "2) fixed size matrix i/p --> ml algoritham\n",
    "\n",
    "## disadvantages:\n",
    "1) sparse matrix or array ---> overfitting problem\n",
    "2) order of the word getting changed \n",
    "3) out of vecablory \n",
    "4) sematic meaning still not capture"
   ]
  }
 ],
 "metadata": {
  "kernelspec": {
   "display_name": "Python 3 (ipykernel)",
   "language": "python",
   "name": "python3"
  },
  "language_info": {
   "codemirror_mode": {
    "name": "ipython",
    "version": 3
   },
   "file_extension": ".py",
   "mimetype": "text/x-python",
   "name": "python",
   "nbconvert_exporter": "python",
   "pygments_lexer": "ipython3",
   "version": "3.11.4"
  }
 },
 "nbformat": 4,
 "nbformat_minor": 5
}
