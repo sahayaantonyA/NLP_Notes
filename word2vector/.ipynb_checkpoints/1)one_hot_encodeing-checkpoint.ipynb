{
 "cells": [
  {
   "cell_type": "raw",
   "id": "b40aee59-509c-4269-aab0-72bcb3a22b53",
   "metadata": {},
   "source": [
    "    text               o/p\n",
    "The food is good        1\n",
    "The food is bad         0\n",
    "\n",
    "#one hot encodeing\n",
    "\n",
    "step1: finding unique words\n",
    "unique words --> The food is good bad\n",
    "\n",
    "step2: apply one-hot encodeing\n",
    "\n",
    "The food is good bad\n",
    " 1   0   0    0   0\n",
    " 0   1   0    0   0\n",
    " 0   0   1    0   0\n",
    " 0   0   0    1   0\n",
    " 0   0   0    0   1\n",
    "\n",
    "so,\n",
    "The food is good :\n",
    "                    [[1 0 0 0 0\n",
    "                      0 1 0 0 0\n",
    "                      0 0 1 0 0\n",
    "                      0 0 0 1 0]]\n",
    "The food is bad : \n",
    "                    [[1 0 0 0 0\n",
    "                      0 1 0 0 0\n",
    "                      0 0 1 0 0\n",
    "                      0 0 0 0 1]]\n",
    "\n",
    "## Adavatages\n",
    "1) Easy to implement with python {scikit learn - one_hot_encoder | pd.get_dummies()}\n",
    "\n",
    "## disadvantages\n",
    "1) sparse matrix (lot of zeros & ones) ---> problem(overfitting)\n",
    "2) ml algorithm needs fixed matrix size (in above the example we get 4X5 matrix becase we have a 4 words in a sentence,\n",
    "   incase we have 2 two words in a sentence then we get 2X5 )\n",
    "3) we can't get which word is more importent\n",
    "4) out of unique words list (if i test our model using test data incase our test data having different word \n",
    "   then our model will struggele to predict the output)"
   ]
  },
  {
   "cell_type": "code",
   "execution_count": null,
   "id": "3ce4971a-4930-4f39-b2ba-7ec77b408a60",
   "metadata": {},
   "outputs": [],
   "source": []
  }
 ],
 "metadata": {
  "kernelspec": {
   "display_name": "Python 3 (ipykernel)",
   "language": "python",
   "name": "python3"
  },
  "language_info": {
   "codemirror_mode": {
    "name": "ipython",
    "version": 3
   },
   "file_extension": ".py",
   "mimetype": "text/x-python",
   "name": "python",
   "nbconvert_exporter": "python",
   "pygments_lexer": "ipython3",
   "version": "3.11.4"
  }
 },
 "nbformat": 4,
 "nbformat_minor": 5
}
